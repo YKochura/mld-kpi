{
  "nbformat": 4,
  "nbformat_minor": 0,
  "metadata": {
    "colab": {
      "provenance": []
    },
    "kernelspec": {
      "name": "python3",
      "display_name": "Python 3"
    },
    "language_info": {
      "name": "python"
    }
  },
  "cells": [
    {
      "cell_type": "markdown",
      "source": [
        "<a href=\"https://colab.research.google.com/github/YKochura/mld-kpi/blob/main/tutor/convolution_vs_correlation.ipynb\" target=\"_parent\"><img src=\"https://colab.research.google.com/assets/colab-badge.svg\" alt=\"Open In Colab\"/></a>"
      ],
      "metadata": {
        "id": "PYGFtunDWnjJ"
      }
    },
    {
      "cell_type": "code",
      "execution_count": 1,
      "metadata": {
        "colab": {
          "base_uri": "https://localhost:8080/"
        },
        "id": "8yV1cT7fDXfV",
        "outputId": "572c6d97-078d-4f5e-ceb8-62c861c1f48b"
      },
      "outputs": [
        {
          "output_type": "stream",
          "name": "stdout",
          "text": [
            "Згортка: [2 2 2]\n"
          ]
        }
      ],
      "source": [
        "import numpy as np\n",
        "\n",
        "# Сигнал (вхідний масив)\n",
        "signal = np.array([1, 2, 3, 4, 5])\n",
        "\n",
        "# Ядро (фільтр)\n",
        "kernel = np.array([1, 0, -1])\n",
        "\n",
        "# Обчислення згортки\n",
        "convolution = np.convolve(signal, kernel, mode='valid')\n",
        "\n",
        "print(\"Згортка:\", convolution)"
      ]
    },
    {
      "cell_type": "code",
      "source": [
        "correlation = np.correlate(signal, kernel, mode='valid')\n",
        "print(\"Взаємна кореляція:\", correlation)"
      ],
      "metadata": {
        "colab": {
          "base_uri": "https://localhost:8080/"
        },
        "id": "C4XQ7RDNDZ03",
        "outputId": "5261d1ee-730c-4671-9a5a-cc45b6b821e4"
      },
      "execution_count": 2,
      "outputs": [
        {
          "output_type": "stream",
          "name": "stdout",
          "text": [
            "Взаємна кореляція: [-2 -2 -2]\n"
          ]
        }
      ]
    }
  ]
}